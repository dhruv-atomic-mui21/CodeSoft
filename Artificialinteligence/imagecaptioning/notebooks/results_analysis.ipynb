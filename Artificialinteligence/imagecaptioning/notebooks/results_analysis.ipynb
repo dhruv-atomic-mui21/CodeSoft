{
 "cells": [
  {
   "cell_type": "markdown",
   "metadata": {},
   "source": [
    "# Results Analysis\n",
    "This notebook is for analyzing the results of the image captioning model."
   ]
  }
 ],
 "metadata": {},
 "nbformat": 4,
 "nbformat_minor": 5
}
